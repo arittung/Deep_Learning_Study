{
  "nbformat": 4,
  "nbformat_minor": 0,
  "metadata": {
    "colab": {
      "name": "ResNet50.ipynb",
      "provenance": [],
      "collapsed_sections": []
    },
    "kernelspec": {
      "name": "python3",
      "display_name": "Python 3"
    },
    "language_info": {
      "name": "python"
    }
  },
  "cells": [
    {
      "cell_type": "markdown",
      "metadata": {
        "id": "L2bRz5n_EpI1"
      },
      "source": [
        "## ResNet 50"
      ]
    },
    {
      "cell_type": "markdown",
      "metadata": {
        "id": "UNW_ezX7REU_"
      },
      "source": [
        "### Layer1"
      ]
    },
    {
      "cell_type": "code",
      "metadata": {
        "id": "Ds58J3ifEsSm",
        "colab": {
          "base_uri": "https://localhost:8080/",
          "height": 241
        },
        "outputId": "7ab659da-6dee-4ea3-eb85-4c13430a32ad"
      },
      "source": [
        "class ResNet50_layer4(nn.Module):\n",
        "    def __init__(self, num_classes= 10 ):\n",
        "        super(ResNet50_layer4, self).__init__()\n",
        "        self.layer1 = nn.Sequential(\n",
        "            nn.Conv2d(3, 64, 7, 2, 3),\n",
        "            nn.BatchNorm2d(64),\n",
        "            nn.ReLU(inplace=True),\n",
        "            nn.MaxPool2d(3, 2, 1)\n",
        "        )\n",
        "        "
      ],
      "execution_count": 4,
      "outputs": [
        {
          "output_type": "error",
          "ename": "NameError",
          "evalue": "ignored",
          "traceback": [
            "\u001b[0;31m---------------------------------------------------------------------------\u001b[0m",
            "\u001b[0;31mNameError\u001b[0m                                 Traceback (most recent call last)",
            "\u001b[0;32m<ipython-input-4-31ebd141b346>\u001b[0m in \u001b[0;36m<module>\u001b[0;34m()\u001b[0m\n\u001b[0;32m----> 1\u001b[0;31m \u001b[0;32mclass\u001b[0m \u001b[0mResNet50_layer4\u001b[0m\u001b[0;34m(\u001b[0m\u001b[0mnn\u001b[0m\u001b[0;34m.\u001b[0m\u001b[0mModule\u001b[0m\u001b[0;34m)\u001b[0m\u001b[0;34m:\u001b[0m\u001b[0;34m\u001b[0m\u001b[0;34m\u001b[0m\u001b[0m\n\u001b[0m\u001b[1;32m      2\u001b[0m     \u001b[0;32mdef\u001b[0m \u001b[0m__init__\u001b[0m\u001b[0;34m(\u001b[0m\u001b[0mself\u001b[0m\u001b[0;34m,\u001b[0m \u001b[0mnum_classes\u001b[0m\u001b[0;34m=\u001b[0m \u001b[0;36m10\u001b[0m \u001b[0;34m)\u001b[0m\u001b[0;34m:\u001b[0m\u001b[0;34m\u001b[0m\u001b[0;34m\u001b[0m\u001b[0m\n\u001b[1;32m      3\u001b[0m         \u001b[0msuper\u001b[0m\u001b[0;34m(\u001b[0m\u001b[0mResNet50_layer4\u001b[0m\u001b[0;34m,\u001b[0m \u001b[0mself\u001b[0m\u001b[0;34m)\u001b[0m\u001b[0;34m.\u001b[0m\u001b[0m__init__\u001b[0m\u001b[0;34m(\u001b[0m\u001b[0;34m)\u001b[0m\u001b[0;34m\u001b[0m\u001b[0;34m\u001b[0m\u001b[0m\n\u001b[1;32m      4\u001b[0m         self.layer1 = nn.Sequential(\n\u001b[1;32m      5\u001b[0m             \u001b[0mnn\u001b[0m\u001b[0;34m.\u001b[0m\u001b[0mConv2d\u001b[0m\u001b[0;34m(\u001b[0m\u001b[0;36m3\u001b[0m\u001b[0;34m,\u001b[0m \u001b[0;36m64\u001b[0m\u001b[0;34m,\u001b[0m \u001b[0;36m7\u001b[0m\u001b[0;34m,\u001b[0m \u001b[0;36m2\u001b[0m\u001b[0;34m,\u001b[0m \u001b[0;36m3\u001b[0m\u001b[0;34m)\u001b[0m\u001b[0;34m,\u001b[0m\u001b[0;34m\u001b[0m\u001b[0;34m\u001b[0m\u001b[0m\n",
            "\u001b[0;31mNameError\u001b[0m: name 'nn' is not defined"
          ]
        }
      ]
    },
    {
      "cell_type": "markdown",
      "metadata": {
        "id": "JlfohGAKRL5c"
      },
      "source": [
        "### Layer2"
      ]
    },
    {
      "cell_type": "code",
      "metadata": {
        "id": "4XgVW6WOQ91P"
      },
      "source": [
        "      self.layer2 = nn.Sequential(\n",
        "            ResidualBlock(64, 64, 256, False),\n",
        "            ResidualBlock(256, 64, 256, False),\n",
        "            ResidualBlock(256, 64, 256, True)\n",
        "        )"
      ],
      "execution_count": null,
      "outputs": []
    },
    {
      "cell_type": "markdown",
      "metadata": {
        "id": "Civc2uV7RQPL"
      },
      "source": [
        "### Layer 3"
      ]
    },
    {
      "cell_type": "code",
      "metadata": {
        "id": "kPD7ZgSsRRZJ"
      },
      "source": [
        "       self.layer3 = nn.Sequential(\n",
        "            ResidualBlock(256, 128, 512, False),\n",
        "            ResidualBlock(512, 128, 512, False),\n",
        "            ResidualBlock(512, 128, 512, False),\n",
        "            ResidualBlock(512, 128, 512, True)\n",
        "        )"
      ],
      "execution_count": null,
      "outputs": []
    },
    {
      "cell_type": "markdown",
      "metadata": {
        "id": "q6s2nSOhRbRY"
      },
      "source": [
        "### Layer 4"
      ]
    },
    {
      "cell_type": "code",
      "metadata": {
        "id": "ODc2oLwYRcXb"
      },
      "source": [
        "      self.layer4 = nn.Sequential(\n",
        "            ResidualBlock(512, 256, 1024, False),\n",
        "            ResidualBlock(1024, 256, 1024, False),\n",
        "            ResidualBlock(1024, 256, 1024, False),\n",
        "            ResidualBlock(1024, 256, 1024, False),\n",
        "            ResidualBlock(1024, 256, 1024, False),\n",
        "            ResidualBlock(1024, 256, 1024, True)\n",
        "        )"
      ],
      "execution_count": null,
      "outputs": []
    },
    {
      "cell_type": "markdown",
      "metadata": {
        "id": "75urhLJfRgb2"
      },
      "source": [
        "### Layer 5"
      ]
    },
    {
      "cell_type": "code",
      "metadata": {
        "id": "BSt5IdCfRhkc"
      },
      "source": [
        "\t      self.layer5 = nn.Sequential(\n",
        "            ResidualBlock(1024, 512, 2048, False),\n",
        "            ResidualBlock(2048, 512, 2048, False),\n",
        "            ResidualBlock(2048, 512, 2048, False)\n",
        "        )"
      ],
      "execution_count": null,
      "outputs": []
    },
    {
      "cell_type": "markdown",
      "metadata": {
        "id": "v789nQcSRjuY"
      },
      "source": [
        "### 추가 나머지"
      ]
    },
    {
      "cell_type": "code",
      "metadata": {
        "id": "08mSb-VtRmIs"
      },
      "source": [
        "\t      self.fc = nn.Linear(2048, 10)\n",
        "        self.avgpool = nn.AvgPool2d((2,2), stride=0)"
      ],
      "execution_count": null,
      "outputs": []
    },
    {
      "cell_type": "markdown",
      "metadata": {
        "id": "wjZ7o_0ZRorK"
      },
      "source": [
        "### forward 함수"
      ]
    },
    {
      "cell_type": "code",
      "metadata": {
        "id": "UdWjDz8eRqUx"
      },
      "source": [
        "\t      def forward(self, x):\n",
        "            out = self.layer1(x)\n",
        "            out = self.layer2(out)\n",
        "            out = self.layer3(out)\n",
        "            out = self.layer4(out)\n",
        "            out = self.layer5(out)\n",
        "            out = self.avgpool(out)\n",
        "            out = out.view(out.size()[0], -1)\n",
        "            out = self.fc(out)\n",
        "            return out"
      ],
      "execution_count": null,
      "outputs": []
    },
    {
      "cell_type": "code",
      "metadata": {
        "id": "MMfc0m3VRkyB"
      },
      "source": [
        ""
      ],
      "execution_count": null,
      "outputs": []
    },
    {
      "cell_type": "code",
      "metadata": {
        "id": "hXxuqBisGG5H"
      },
      "source": [
        ""
      ],
      "execution_count": null,
      "outputs": []
    },
    {
      "cell_type": "code",
      "metadata": {
        "id": "5s5ZYYNpF6EN"
      },
      "source": [
        ""
      ],
      "execution_count": null,
      "outputs": []
    },
    {
      "cell_type": "code",
      "metadata": {
        "id": "iV-JwLl-Rupy"
      },
      "source": [
        ""
      ],
      "execution_count": null,
      "outputs": []
    },
    {
      "cell_type": "code",
      "metadata": {
        "id": "wsTW4lEpEmoE"
      },
      "source": [
        ""
      ],
      "execution_count": null,
      "outputs": []
    }
  ]
}