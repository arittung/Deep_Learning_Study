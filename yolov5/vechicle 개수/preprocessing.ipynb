{
 "cells": [
  {
   "cell_type": "code",
   "execution_count": 9,
   "id": "009e73d6",
   "metadata": {},
   "outputs": [],
   "source": [
    "from glob import glob\n",
    " \n",
    "# 이미지들의 주소 리스트로 만들어줌\n",
    "train_img_list = glob('./train/images/*.jpg')\n",
    "valid_img_list = glob('./valid/images/*.jpg')\n",
    " \n",
    "# 리스트를 txt파일로 생성\n",
    "with open('./dataset/train.txt', 'w') as f:\n",
    "\tf.write('\\n'.join(train_img_list) + '\\n')\n",
    "    \n",
    "with open('./dataset/valid.txt', 'w') as f:\n",
    "\tf.write('\\n'.join(valid_img_list) + '\\n')\n",
    "    "
   ]
  },
  {
   "cell_type": "code",
   "execution_count": 10,
   "id": "37f22f3f",
   "metadata": {},
   "outputs": [
    {
     "name": "stdout",
     "output_type": "stream",
     "text": [
      "{'names': ['Ambulance', 'Bus', 'Car', 'Motorcycle', 'Truck'], 'nc': 5, 'train': './dataset/train.txt', 'val': './dataset/valid.txt', 'valid': './dataset/valid.txt'}\n",
      "{'names': ['Ambulance', 'Bus', 'Car', 'Motorcycle', 'Truck'], 'nc': 5, 'train': './dataset/train.txt', 'val': './dataset/valid.txt', 'valid': './dataset/valid.txt'}\n"
     ]
    }
   ],
   "source": [
    "import yaml\n",
    " \n",
    "with open('./dataset/data.yaml', 'r') as f:\n",
    "\tdata = yaml.full_load(f)\n",
    "    \n",
    "print(data)\n",
    " \n",
    "data['train'] = './dataset/train.txt'\n",
    "data['valid'] = './dataset/valid.txt'\n",
    "data['val'] = './dataset/valid.txt'\n",
    " \n",
    "with open('./dataset/data.yaml', 'w') as f:\n",
    "\tyaml.dump(data, f)\n",
    "    \n",
    "print(data)"
   ]
  }
 ],
 "metadata": {
  "kernelspec": {
   "display_name": "yolov5",
   "language": "python",
   "name": "yolov5"
  },
  "language_info": {
   "codemirror_mode": {
    "name": "ipython",
    "version": 3
   },
   "file_extension": ".py",
   "mimetype": "text/x-python",
   "name": "python",
   "nbconvert_exporter": "python",
   "pygments_lexer": "ipython3",
   "version": "3.8.13"
  }
 },
 "nbformat": 4,
 "nbformat_minor": 5
}
