{
  "nbformat": 4,
  "nbformat_minor": 0,
  "metadata": {
    "colab": {
      "name": "Day01.ipynb",
      "provenance": [],
      "collapsed_sections": []
    },
    "kernelspec": {
      "name": "python3",
      "display_name": "Python 3"
    },
    "language_info": {
      "name": "python"
    }
  },
  "cells": [
    {
      "cell_type": "markdown",
      "metadata": {
        "id": "qIc2EiIl1UNF"
      },
      "source": [
        "# perceptron,py"
      ]
    },
    {
      "cell_type": "code",
      "metadata": {
        "id": "DI6xyGGg1Jkr"
      },
      "source": [
        "import numpy as np\n",
        "\n",
        "class Perceptron():\n",
        "    def __init__(self, thresholds=0.0, eta=0.01, n_iter=10):\n",
        "        self.thresholds = thresholds\n",
        "        self.eta = eta\n",
        "        self.n_iter = n_iter\n",
        "        \n",
        "    def fit(self, X, y):\n",
        "        self.w_ = np.zeros(1+X.shape[1])\n",
        "        self.errors_ = []\n",
        "        \n",
        "        for _ in range(self.n_iter):\n",
        "            errors = 0\n",
        "            for xi, target in zip(X, y):\n",
        "                update = self.eta * (target-self.predict(xi))\n",
        "                self.w_[1:] += update * xi\n",
        "                self.w_[0] += update\n",
        "                errors += int(update != 0.0)\n",
        "            self.errors_.append(errors)\n",
        "            print(self.w_)\n",
        "    \n",
        "        return self\n",
        "    \n",
        "    def net_input(self, X):\n",
        "        return np.dot(X, self.w_[1:]) + self.w_[0]\n",
        "    \n",
        "    def predict(self, X):\n",
        "        return np.where(self.net_input(X) > self.thresholds, 1, -1)"
      ],
      "execution_count": 1,
      "outputs": []
    },
    {
      "cell_type": "markdown",
      "metadata": {
        "id": "X4WTXDlt1bbx"
      },
      "source": [
        "# perceptron_and.py"
      ]
    },
    {
      "cell_type": "code",
      "metadata": {
        "colab": {
          "base_uri": "https://localhost:8080/"
        },
        "id": "MKPSlPQ51TYs",
        "outputId": "ebcf76b3-3716-4b26-b9a2-aba417cde55b"
      },
      "source": [
        "if __name__ == '__main__':\n",
        "    X=np.array([[0,0], [0,1], [1,0], [1,1]])\n",
        "    y = np.array([-1,-1,-1,1])\n",
        "    \n",
        "    ppn = Perceptron(eta = 0.1)\n",
        "    ppn.fit(X, y)\n",
        "    print(ppn.errors_)"
      ],
      "execution_count": 2,
      "outputs": [
        {
          "output_type": "stream",
          "text": [
            "[0.2 0.2 0.2]\n",
            "[0.  0.4 0.2]\n",
            "[-0.2  0.4  0.2]\n",
            "[-0.2  0.4  0.4]\n",
            "[-0.4  0.4  0.2]\n",
            "[-0.4  0.4  0.2]\n",
            "[-0.4  0.4  0.2]\n",
            "[-0.4  0.4  0.2]\n",
            "[-0.4  0.4  0.2]\n",
            "[-0.4  0.4  0.2]\n",
            "[1, 3, 3, 2, 1, 0, 0, 0, 0, 0]\n"
          ],
          "name": "stdout"
        }
      ]
    }
  ]
}