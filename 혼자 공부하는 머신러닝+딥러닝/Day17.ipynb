{
  "nbformat": 4,
  "nbformat_minor": 0,
  "metadata": {
    "colab": {
      "name": "Day17.ipynb",
      "provenance": [],
      "collapsed_sections": []
    },
    "kernelspec": {
      "name": "python3",
      "display_name": "Python 3"
    },
    "language_info": {
      "name": "python"
    }
  },
  "cells": [
    {
      "cell_type": "markdown",
      "metadata": {
        "id": "djKbVnzYq4b-"
      },
      "source": [
        "# 07-3"
      ]
    },
    {
      "cell_type": "markdown",
      "metadata": {
        "id": "jft0hG8fq6Sc"
      },
      "source": [
        "## 손실 곡선"
      ]
    },
    {
      "cell_type": "code",
      "metadata": {
        "id": "0OAmhulSq8ol"
      },
      "source": [
        "from tensorflow import keras\n",
        "from sklearn.model_selection import train_test_split\n",
        "\n",
        "(train_input, train_target), (test_input, test_target) = \\\n",
        "    keras.datasets.fashion_mnist.load_data()\n",
        "\n",
        "train_scaled = train_input / 255.0\n",
        "\n",
        "# 훈련 세트와 검증 세트로 나눔.\n",
        "train_scaled, val_scaled, train_target, val_target = train_test_split(train_scaled, train_target, test_size=0.2, random_state=42)"
      ],
      "execution_count": 11,
      "outputs": []
    },
    {
      "cell_type": "code",
      "metadata": {
        "colab": {
          "base_uri": "https://localhost:8080/"
        },
        "id": "7775kvptq94T",
        "outputId": "bc5a5a8f-1341-4212-e443-9788d415b6ce"
      },
      "source": [
        "# 모델 만드는 간단한 함수 정의\n",
        "def model_fn(a_layer=None):\n",
        "    model = keras.Sequential()\n",
        "    model.add(keras.layers.Flatten(input_shape=(28, 28)))\n",
        "    model.add(keras.layers.Dense(100, activation='relu'))\n",
        "    if a_layer:   # 케라스 층을 추가하면 은닉층 뒤에 또하나의 층을 추가.\n",
        "        model.add(a_layer)\n",
        "    model.add(keras.layers.Dense(10, activation='softmax'))\n",
        "    return model\n",
        "\n",
        "# 층 추가 없이 model_fn()함수 호출\n",
        "model = model_fn()\n",
        "model.summary()"
      ],
      "execution_count": 2,
      "outputs": [
        {
          "output_type": "stream",
          "text": [
            "Model: \"sequential\"\n",
            "_________________________________________________________________\n",
            "Layer (type)                 Output Shape              Param #   \n",
            "=================================================================\n",
            "flatten (Flatten)            (None, 784)               0         \n",
            "_________________________________________________________________\n",
            "dense (Dense)                (None, 100)               78500     \n",
            "_________________________________________________________________\n",
            "dense_1 (Dense)              (None, 10)                1010      \n",
            "=================================================================\n",
            "Total params: 79,510\n",
            "Trainable params: 79,510\n",
            "Non-trainable params: 0\n",
            "_________________________________________________________________\n"
          ],
          "name": "stdout"
        }
      ]
    },
    {
      "cell_type": "code",
      "metadata": {
        "colab": {
          "base_uri": "https://localhost:8080/"
        },
        "id": "n6pvj8AIrBTI",
        "outputId": "bd1361c5-a27f-4499-bf2b-65895997b04b"
      },
      "source": [
        "model.compile(loss='sparse_categorical_crossentropy', metrics='accuracy')\n",
        "# history 객체에는 훈련 측정값이 담겨있는 history 딕셔너리가 들어있음, 손실(케라스는 기본적으로 에포크마다 손실 계산)과 정확도(compile()에서 metrics 에 'accuracy'를 추가했기 때문) 포함\n",
        "history = model.fit(train_scaled, train_target, epochs=5, verbose=0)\n",
        "\n",
        "print(history.history.keys())"
      ],
      "execution_count": 12,
      "outputs": [
        {
          "output_type": "stream",
          "text": [
            "dict_keys(['loss', 'accuracy'])\n"
          ],
          "name": "stdout"
        }
      ]
    },
    {
      "cell_type": "code",
      "metadata": {
        "colab": {
          "base_uri": "https://localhost:8080/",
          "height": 279
        },
        "id": "iGOpPJQUrI33",
        "outputId": "d13e7a24-c3e4-4651-8bf8-924a71ac792e"
      },
      "source": [
        "# 손실 그래프\n",
        "import matplotlib.pyplot as plt\n",
        "plt.plot(history.history['loss'])\n",
        "plt.xlabel('epoch')\n",
        "plt.ylabel('loss')\n",
        "plt.savefig('7_3-01', dpi=300)\n",
        "plt.show()"
      ],
      "execution_count": 13,
      "outputs": [
        {
          "output_type": "display_data",
          "data": {
            "image/png": "[encoded data removed]",
            "text/plain": [
              "<Figure size 432x288 with 1 Axes>"
            ]
          },
          "metadata": {
            "tags": [],
            "needs_background": "light"
          }
        }
      ]
    },
    {
      "cell_type": "code",
      "metadata": {
        "colab": {
          "base_uri": "https://localhost:8080/",
          "height": 279
        },
        "id": "DlgxFynoq2Xb",
        "outputId": "259f6ae2-a99e-4572-e81d-f8fc5a1912c5"
      },
      "source": [
        "# 정확도 그래프\n",
        "plt.plot(history.history['accuracy'])\n",
        "plt.xlabel('epoch')\n",
        "plt.ylabel('accuracy')\n",
        "plt.savefig('7_3-02', dpi=300)\n",
        "plt.show()"
      ],
      "execution_count": 14,
      "outputs": [
        {
          "output_type": "display_data",
          "data": {
            "image/png": "[encoded data removed]",
            "text/plain": [
              "<Figure size 432x288 with 1 Axes>"
            ]
          },
          "metadata": {
            "tags": [],
            "needs_background": "light"
          }
        }
      ]
    },
    {
      "cell_type": "code",
      "metadata": {
        "colab": {
          "base_uri": "https://localhost:8080/",
          "height": 279
        },
        "id": "l2-JFlb6rJ1_",
        "outputId": "4af0a3e6-5837-4a74-c260-b8fe50fb7f8f"
      },
      "source": [
        "model = model_fn()\n",
        "model.compile(loss='sparse_categorical_crossentropy', metrics='accuracy')\n",
        "\n",
        "# epoch를 20으로 늘려 훈련\n",
        "history = model.fit(train_scaled, train_target, epochs=20, verbose=0)\n",
        "\n",
        "plt.plot(history.history['loss'])\n",
        "plt.xlabel('epoch')\n",
        "plt.ylabel('loss')\n",
        "plt.savefig('7_3-03', dpi=300)\n",
        "plt.show()"
      ],
      "execution_count": 15,
      "outputs": [
        {
          "output_type": "display_data",
          "data": {
            "image/png": "[encoded data removed]",
            "text/plain": [
              "<Figure size 432x288 with 1 Axes>"
            ]
          },
          "metadata": {
            "tags": [],
            "needs_background": "light"
          }
        }
      ]
    },
    {
      "cell_type": "code",
      "metadata": {
        "id": "v4UatAPNbqVU"
      },
      "source": [
        ""
      ],
      "execution_count": null,
      "outputs": []
    },
    {
      "cell_type": "markdown",
      "metadata": {
        "id": "Cy7WByPrbrOD"
      },
      "source": [
        "## 검증 손실"
      ]
    },
    {
      "cell_type": "code",
      "metadata": {
        "colab": {
          "base_uri": "https://localhost:8080/"
        },
        "id": "HScqFFIvbscv",
        "outputId": "32afa91f-fb57-4aca-fbd8-af5df0eb37a6"
      },
      "source": [
        "model = model_fn()\n",
        "model.compile(loss='sparse_categorical_crossentropy', metrics='accuracy')\n",
        "\n",
        "# 에포크마다 검증 손실을 계산하기 위해 케라스 모델의 fit()에 검증데이터 전달 가능.\n",
        "# validation_data : 검증에 사용할 입력과 타깃값을 튜플로 만들어 전달.\n",
        "history = model.fit(train_scaled, train_target, epochs=20, verbose=0, validation_data=(val_scaled, val_target))\n",
        "\n",
        "# history.history 딕셔너리에 들어있는 값\n",
        "print(history.history.keys())\n",
        "# val_loss : 검증 세트에 대한 손실\n",
        "# val_accuracy : 정확도"
      ],
      "execution_count": 16,
      "outputs": [
        {
          "output_type": "stream",
          "text": [
            "dict_keys(['loss', 'accuracy', 'val_loss', 'val_accuracy'])\n"
          ],
          "name": "stdout"
        }
      ]
    },
    {
      "cell_type": "code",
      "metadata": {
        "colab": {
          "base_uri": "https://localhost:8080/",
          "height": 279
        },
        "id": "O1vZ7kVFczyr",
        "outputId": "644d0c86-cb38-4a99-d81a-fcddcb45757f"
      },
      "source": [
        "# 과대/과소 적합 문제 보기 위한 손실과 검증 손실 그래프\n",
        "plt.plot(history.history['loss'])\n",
        "plt.plot(history.history['val_loss'])\n",
        "plt.xlabel('epoch')\n",
        "plt.ylabel('loss')\n",
        "plt.legend(['train', 'val'])\n",
        "plt.savefig('7_3-04', dpi=300)\n",
        "plt.show()\n",
        "\n",
        "# 검증 손실이 감소하다 다섯번째 에포크부터 상승시작. 훈련 손실을 꾸준히 감소하기에 과대적합 모델.\n",
        "# 검증 손실이 상승하는 시점을 가능한 뒤로 늦추면 검증 세트에 대한 손실이 줄어들 뿐 아니라 검증 세트에 대한 정확도도 증가할 것임."
      ],
      "execution_count": 17,
      "outputs": [
        {
          "output_type": "display_data",
          "data": {
            "image/png": "[encoded data removed]",
            "text/plain": [
              "<Figure size 432x288 with 1 Axes>"
            ]
          },
          "metadata": {
            "tags": [],
            "needs_background": "light"
          }
        }
      ]
    },
    {
      "cell_type": "code",
      "metadata": {
        "colab": {
          "base_uri": "https://localhost:8080/",
          "height": 279
        },
        "id": "H6nTWKIMdYMf",
        "outputId": "25037400-871e-4bf0-c014-9cfe5c93a4e2"
      },
      "source": [
        "# 옵티마이저 하이퍼파라미터 조정하여 과대 적합 완화 가능.\n",
        "model = model_fn()\n",
        "# optimizer='adam' : Adam 옵티마이저 적용\n",
        "model.compile(optimizer='adam', loss='sparse_categorical_crossentropy', metrics='accuracy')\n",
        "\n",
        "history = model.fit(train_scaled, train_target, epochs=20, verbose=0, validation_data=(val_scaled, val_target))\n",
        "\n",
        "plt.plot(history.history['loss'])\n",
        "plt.plot(history.history['val_loss'])\n",
        "plt.xlabel('epoch')\n",
        "plt.ylabel('loss')\n",
        "plt.legend(['train', 'val'])\n",
        "plt.savefig('7_3-05', dpi=300)\n",
        "plt.show()\n",
        "\n",
        "# 과대적합 감소."
      ],
      "execution_count": 18,
      "outputs": [
        {
          "output_type": "display_data",
          "data": {
            "image/png": "[encoded data removed]",
            "text/plain": [
              "<Figure size 432x288 with 1 Axes>"
            ]
          },
          "metadata": {
            "tags": [],
            "needs_background": "light"
          }
        }
      ]
    },
    {
      "cell_type": "code",
      "metadata": {
        "id": "HLD2igwpeTV8"
      },
      "source": [
        ""
      ],
      "execution_count": null,
      "outputs": []
    },
    {
      "cell_type": "markdown",
      "metadata": {
        "id": "jRP_xJ4deXWi"
      },
      "source": [
        "## 드롭아웃"
      ]
    },
    {
      "cell_type": "code",
      "metadata": {
        "colab": {
          "base_uri": "https://localhost:8080/"
        },
        "id": "hMlKRc0AeYle",
        "outputId": "4b913681-2072-4fce-bd0e-8fd9970b64e8"
      },
      "source": [
        "# 케라스에서는 드롭아웃을 keras.layers 패키지 아래 Dropout 클래스로 제공함.\n",
        "# 어떤 층의 뒤에 드롭아웃을 두어 이 층의 출력을 랜덤하게 0으로 만드는 것. 드롭아웃이 층처럼 사용되지만 훈련되는 모델 파라미터가 없고 입력과 출력 크기가 같음, 일부 뉴런의 출력을 0으로 만들지만 전체 출력 배열의 크기를 바꾸지는 않음.\n",
        "# 훈련이 끝난 후 평가나 예측 수행할 때는 드롭아웃을 적용하지 않아야 함. -> 텐서플로와 케라스는 모델을 평가와 예측에 사용할 때는 자동으로 드롭아웃 적용하지 않음.\n",
        "model = model_fn(keras.layers.Dropout(0.3))\n",
        "model.summary()"
      ],
      "execution_count": 19,
      "outputs": [
        {
          "output_type": "stream",
          "text": [
            "Model: \"sequential_6\"\n",
            "_________________________________________________________________\n",
            "Layer (type)                 Output Shape              Param #   \n",
            "=================================================================\n",
            "flatten_6 (Flatten)          (None, 784)               0         \n",
            "_________________________________________________________________\n",
            "dense_12 (Dense)             (None, 100)               78500     \n",
            "_________________________________________________________________\n",
            "dropout (Dropout)            (None, 100)               0         \n",
            "_________________________________________________________________\n",
            "dense_13 (Dense)             (None, 10)                1010      \n",
            "=================================================================\n",
            "Total params: 79,510\n",
            "Trainable params: 79,510\n",
            "Non-trainable params: 0\n",
            "_________________________________________________________________\n"
          ],
          "name": "stdout"
        }
      ]
    },
    {
      "cell_type": "code",
      "metadata": {
        "colab": {
          "base_uri": "https://localhost:8080/",
          "height": 282
        },
        "id": "o4EGjPdCdFpz",
        "outputId": "1dfd6023-c6e6-4d6d-9dbf-69458e29c83d"
      },
      "source": [
        "# 훈련 손실과 검증 손실의 그래프\n",
        "model.compile(optimizer='adam', loss='sparse_categorical_crossentropy', metrics='accuracy')\n",
        "\n",
        "history = model.fit(train_scaled, train_target, epochs=20, verbose=0, validation_data=(val_scaled, val_target))\n",
        "\n",
        "plt.plot(history.history['loss'])\n",
        "plt.plot(history.history['val_loss'])\n",
        "plt.xlabel('epoch')\n",
        "plt.ylabel('loss')\n",
        "plt.legend(['train', 'val'])\n",
        "plt.savefig('7_3-06', dpi=300)\n",
        "plt.show()\n",
        "# 과대적합 줄었지만 그래도 과소적합 되어 있는 상태"
      ],
      "execution_count": 20,
      "outputs": [
        {
          "output_type": "display_data",
          "data": {
            "image/png": "[encoded data removed]",
            "text/plain": [
              "<Figure size 432x288 with 1 Axes>"
            ]
          },
          "metadata": {
            "tags": [],
            "needs_background": "light"
          }
        }
      ]
    },
    {
      "cell_type": "code",
      "metadata": {
        "id": "qbCptzKDkWm9"
      },
      "source": [
        ""
      ],
      "execution_count": null,
      "outputs": []
    },
    {
      "cell_type": "markdown",
      "metadata": {
        "id": "T8nvlptskXPB"
      },
      "source": [
        "## 모델 저장과 복원"
      ]
    },
    {
      "cell_type": "code",
      "metadata": {
        "colab": {
          "base_uri": "https://localhost:8080/"
        },
        "id": "HdF-TwM7kYdK",
        "outputId": "45eb42ca-e8d1-4ff7-b127-88dbe9d3ced9"
      },
      "source": [
        "model = model_fn(keras.layers.Dropout(0.3))\n",
        "model.compile(optimizer='adam', loss='sparse_categorical_crossentropy', metrics='accuracy')\n",
        "\n",
        "# 에포크 횟수 10\n",
        "history = model.fit(train_scaled, train_target, epochs=10, verbose=0, validation_data=(val_scaled, val_target))\n",
        "\n",
        "# save_weights : 케라스 모델에서 제공하는 훈련된 모델의 파라미터를 저장하는 메서드\n",
        "model.save_weights('model-weights.h5')\n",
        "# save : 모델 구조와 모델 파라미터를 함께 저장하는 메서드\n",
        "model.save('model-whole.h5')\n",
        "\n",
        "# 두 파일 잘 만들어졌는지 확인.\n",
        "!ls -al *.h5"
      ],
      "execution_count": 22,
      "outputs": [
        {
          "output_type": "stream",
          "text": [
            "-rw-r--r-- 1 root root 332480 Jul 30 13:21 model-weights.h5\n",
            "-rw-r--r-- 1 root root 981736 Jul 30 13:21 model-whole.h5\n"
          ],
          "name": "stdout"
        }
      ]
    },
    {
      "cell_type": "code",
      "metadata": {
        "colab": {
          "base_uri": "https://localhost:8080/"
        },
        "id": "YhviBKXdk4eS",
        "outputId": "ed4b3add-a1a3-4ac5-cc64-fb92265f90af"
      },
      "source": [
        "# 훈련 하지 않은 새로운 모델을 만들고 model-weights.h5파일에서 훈련된 모델 파라미터 읽어서 사용.\n",
        "\n",
        "# 훈련하지 않은 새로운 모델 생성\n",
        "model = model_fn(keras.layers.Dropout(0.3))\n",
        "# 이전에 저장했던 모델 파라미터 적제\n",
        "model.load_weights('model-weights.h5')\n",
        "\n",
        "# 케라스에서 예측수행하는 predict()는 사이킷런과 달리 샘플마다 10개의 클래스에 대한 확률 반환.\n",
        "# 확률 중 가장 큰 값의 인덱스를 골라 타깃 레이블과 비교하여 정확도 계산.\n",
        "# argmax() : 배열에서 가장 큰 값의 인덱스 반환.\n",
        "# axis = -1 : 배열의 마지막 차원을 따라 최댓값을 고름.(ex. 검증세트가 2차원 배열이라면 마지막 차원은 1)\n",
        "# axis = 1 : 열을 따라 각 행의 최댓값 인덱스를 선택.\n",
        "# axis = 0 : 행을 다라 각 열의 최댓값 인덱스 선택.\n",
        "import numpy as np\n",
        "\n",
        "val_labels = np.argmax(model.predict(val_scaled), axis=-1)\n",
        "# 두 배열에서 각 위치의 값이 같으면 1, 다르면 0, 이를 평균하면 정확도\n",
        "print(np.mean(val_labels == val_target))\n",
        "\n",
        "# load_model() : 모델이 저장된 파일 읽을 때 사용.\n",
        "model = keras.models.load_model('model-whole.h5')\n",
        "# 검증 세트 정확도 출력. 같은 모델 저장하고 불러들였기 때문에 위와 동일한 정확도 얻음.\n",
        "model.evaluate(val_scaled, val_target)"
      ],
      "execution_count": 23,
      "outputs": [
        {
          "output_type": "stream",
          "text": [
            "0.88225\n",
            "375/375 [==============================] - 1s 2ms/step - loss: 0.3303 - accuracy: 0.8823\n"
          ],
          "name": "stdout"
        },
        {
          "output_type": "execute_result",
          "data": {
            "text/plain": [
              "[0.33030369877815247, 0.8822500109672546]"
            ]
          },
          "metadata": {
            "tags": []
          },
          "execution_count": 23
        }
      ]
    },
    {
      "cell_type": "code",
      "metadata": {
        "id": "SXegzUmwmaCQ"
      },
      "source": [
        ""
      ],
      "execution_count": null,
      "outputs": []
    },
    {
      "cell_type": "markdown",
      "metadata": {
        "id": "qn_ZviFunYI2"
      },
      "source": [
        "## 콜백"
      ]
    },
    {
      "cell_type": "code",
      "metadata": {
        "colab": {
          "base_uri": "https://localhost:8080/"
        },
        "id": "iGizAnOenZOc",
        "outputId": "f3980602-35dd-4377-89ba-36b66d4c5631"
      },
      "source": [
        "# model_fn으로 모델 생성후 compile() 호출.\n",
        "model = model_fn(keras.layers.Dropout(0.3))\n",
        "model.compile(optimizer='adam', loss='sparse_categorical_crossentropy', metrics='accuracy')\n",
        "\n",
        "# ModelCheckpoint : 이 콜백은 기본적으로 최상의 검증 점수를 만드는 모델 저장. \n",
        "# best-model.h5 : 저장된 파일이름.\n",
        "checkpoint_cb = keras.callbacks.ModelCheckpoint('best-model.h5', save_best_only=True)\n",
        "\n",
        "model.fit(train_scaled, train_target, epochs=20, verbose=0, validation_data=(val_scaled, val_target), callbacks=[checkpoint_cb])\n",
        "\n",
        "model = keras.models.load_model('best-model.h5')\n",
        "\n",
        "model.evaluate(val_scaled, val_target)"
      ],
      "execution_count": 24,
      "outputs": [
        {
          "output_type": "stream",
          "text": [
            "375/375 [==============================] - 1s 1ms/step - loss: 0.3168 - accuracy: 0.8898\n"
          ],
          "name": "stdout"
        },
        {
          "output_type": "execute_result",
          "data": {
            "text/plain": [
              "[0.3167959451675415, 0.8897500038146973]"
            ]
          },
          "metadata": {
            "tags": []
          },
          "execution_count": 24
        }
      ]
    },
    {
      "cell_type": "code",
      "metadata": {
        "colab": {
          "base_uri": "https://localhost:8080/"
        },
        "id": "a6nwPUb9os5b",
        "outputId": "d0aba73a-5317-4cb8-9ac8-dd304b51e4b8"
      },
      "source": [
        "model = model_fn(keras.layers.Dropout(0.3))\n",
        "model.compile(optimizer='adam', loss='sparse_categorical_crossentropy', metrics='accuracy')\n",
        "\n",
        "# EarlyStopping 콜백을 ModelCheckpoint 콜백과 함께 사용\n",
        "\n",
        "checkpoint_cb = keras.callbacks.ModelCheckpoint('best-model.h5', save_best_only=True)\n",
        "early_stopping_cb = keras.callbacks.EarlyStopping(patience=2, restore_best_weights=True)\n",
        "\n",
        "history = model.fit(train_scaled, train_target, epochs=20, verbose=0,  validation_data=(val_scaled, val_target), callbacks=[checkpoint_cb, early_stopping_cb])\n",
        "\n",
        "# early_stopping_cb.stopped_epoch : 훈련 마친 후, 몇번 째 에포크에서 훈련 중지되었는지 확인 가능.\n",
        "# 결과-1 번째 에포크에서 훈련 중지되었음을 의미.\n",
        "print(early_stopping_cb.stopped_epoch)\n",
        "\n",
        "# 조기 종료로 얻은 모델을 사용하여 검증 세트에 대한 성능 확인.\n",
        "model.evaluate(val_scaled, val_target)\n"
      ],
      "execution_count": 27,
      "outputs": [
        {
          "output_type": "stream",
          "text": [
            "14\n",
            "375/375 [==============================] - 0s 1ms/step - loss: 0.3204 - accuracy: 0.8847\n"
          ],
          "name": "stdout"
        },
        {
          "output_type": "execute_result",
          "data": {
            "text/plain": [
              "[0.3204129934310913, 0.8846666812896729]"
            ]
          },
          "metadata": {
            "tags": []
          },
          "execution_count": 27
        }
      ]
    },
    {
      "cell_type": "code",
      "metadata": {
        "colab": {
          "base_uri": "https://localhost:8080/",
          "height": 280
        },
        "id": "Z0CWwFUEsXWF",
        "outputId": "a17d1539-c594-44d6-b737-5c67254ed705"
      },
      "source": [
        "# 훈련 손실과 검증 손실 그래프\n",
        "plt.plot(history.history['loss'])\n",
        "plt.plot(history.history['val_loss'])\n",
        "plt.xlabel('epoch')\n",
        "plt.ylabel('loss')\n",
        "plt.legend(['train', 'val'])\n",
        "plt.savefig('7_3-07', dpi=300)\n",
        "plt.show()"
      ],
      "execution_count": 28,
      "outputs": [
        {
          "output_type": "display_data",
          "data": {
            "image/png": "[encoded data removed]",
            "text/plain": [
              "<Figure size 432x288 with 1 Axes>"
            ]
          },
          "metadata": {
            "tags": [],
            "needs_background": "light"
          }
        }
      ]
    },
    {
      "cell_type": "code",
      "metadata": {
        "id": "T7hZop_4kiIh"
      },
      "source": [
        ""
      ],
      "execution_count": null,
      "outputs": []
    },
    {
      "cell_type": "code",
      "metadata": {
        "id": "2qvFv1iYrMZT"
      },
      "source": [
        ""
      ],
      "execution_count": null,
      "outputs": []
    }
  ]
}