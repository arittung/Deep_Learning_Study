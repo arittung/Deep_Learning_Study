{
  "nbformat": 4,
  "nbformat_minor": 0,
  "metadata": {
    "colab": {
      "name": "Day16.ipynb",
      "provenance": [],
      "collapsed_sections": []
    },
    "kernelspec": {
      "name": "python3",
      "display_name": "Python 3"
    },
    "language_info": {
      "name": "python"
    }
  },
  "cells": [
    {
      "cell_type": "markdown",
      "metadata": {
        "id": "vWrzE8c8K9cW"
      },
      "source": [
        "# 07-2"
      ]
    },
    {
      "cell_type": "markdown",
      "metadata": {
        "id": "PARUeEwoLAPy"
      },
      "source": [
        "## 2개의 층"
      ]
    },
    {
      "cell_type": "code",
      "metadata": {
        "colab": {
          "base_uri": "https://localhost:8080/"
        },
        "id": "GlCsUi-LK_wI",
        "outputId": "5602cd8f-f575-455c-ec96-ac35d79fba30"
      },
      "source": [
        "from tensorflow import keras\n",
        "\n",
        "(train_input, train_target), (test_input, test_target) = keras.datasets.fashion_mnist.load_data()\n",
        "\n",
        "from sklearn.model_selection import train_test_split\n",
        "\n",
        "train_scaled = train_input / 255.0\n",
        "train_scaled = train_scaled.reshape(-1, 28*28)\n",
        "\n",
        "# train_test_split() : 훈련 세트와 검증 세트로 나눔.\n",
        "train_scaled, val_scaled, train_target, val_target = train_test_split(\n",
        "    train_scaled, train_target, test_size=0.2, random_state=42)\n",
        "\n",
        "# 시그모이드 활성화 함수를 사용한 은닉층 : 100개의 뉴런을 가진 밀집층. 은닉층은 출력층보다 뉴럭 개수 많아야 함.\n",
        "# activation='sigmoid' : 시그모이드 활성화 함수 사용\n",
        "#  input_shape=(784,) : 입력 크기 정함.\n",
        "dense1 = keras.layers.Dense(100, activation='sigmoid', input_shape=(784,))\n",
        "\n",
        "# 소프트맥스 함수를 사용한 출력층\n",
        "# activation='softmax' : 소프트맥스 함수 사용.\n",
        "dense2 = keras.layers.Dense(10, activation='softmax')"
      ],
      "execution_count": 1,
      "outputs": [
        {
          "output_type": "stream",
          "text": [
            "Downloading data from https://storage.googleapis.com/tensorflow/tf-keras-datasets/train-labels-idx1-ubyte.gz\n",
            "32768/29515 [=================================] - 0s 0us/step\n",
            "Downloading data from https://storage.googleapis.com/tensorflow/tf-keras-datasets/train-images-idx3-ubyte.gz\n",
            "26427392/26421880 [==============================] - 0s 0us/step\n",
            "Downloading data from https://storage.googleapis.com/tensorflow/tf-keras-datasets/t10k-labels-idx1-ubyte.gz\n",
            "8192/5148 [===============================================] - 0s 0us/step\n",
            "Downloading data from https://storage.googleapis.com/tensorflow/tf-keras-datasets/t10k-images-idx3-ubyte.gz\n",
            "4423680/4422102 [==============================] - 0s 0us/step\n"
          ],
          "name": "stdout"
        }
      ]
    },
    {
      "cell_type": "code",
      "metadata": {
        "id": "B-4Nl-CdOVln"
      },
      "source": [
        ""
      ],
      "execution_count": null,
      "outputs": []
    },
    {
      "cell_type": "markdown",
      "metadata": {
        "id": "3RMKKsUdOWor"
      },
      "source": [
        "## 심층 신경망 만들기"
      ]
    },
    {
      "cell_type": "code",
      "metadata": {
        "colab": {
          "base_uri": "https://localhost:8080/"
        },
        "id": "_uSABu36OYqp",
        "outputId": "7c54b8dc-80c7-4a82-fae7-0b8e5ee5c7e9"
      },
      "source": [
        "# Sequential 클래스 객체 생성시 여러 개의 층 추가하려면 dense1과 dense2를 리스트로 만들어 전달. 반드시 출력 층을 가장 마지막에 두어야 함. 가장 처음 등장하는 은닉층에서 마지막 출력 층의 순서로 나열해야 함.\n",
        "model = keras.Sequential([dense1, dense2])\n",
        "\n",
        "# 층에 대한 정보 호출\n",
        "model.summary()\n",
        "# 층마다 층 이름, 클래스, 출력 크기, 모델 파라미터 개수가 출력\n",
        "# 층 생성시 name 매개변수로 이름 지정 가능, defualt 값으로 dense\n",
        "\n",
        "# 첫번째 층\n",
        "# (None, 100) = (샘플 개수, 은닉층 뉴런 개수)\n",
        "# None = 아직 정의 되지 않은 상태(샘플 개수 고정하지 않고 어떤 배치 크기에도 유연하게 대응할 수 있도록)\n",
        "# 100 = 100개의 출력 나옴, 샘플마다 784개의 픽셀 값이 은닉 층 통과하며 100개의 특성으로 압축됨.\n",
        "# 모델 파라미터 개수 = 78500 : DENSE 층이므로 입력 픽셀 784개와 100개의 모든 조합에 대한 가중치 있음. 뉴런마다 1개의 절편 있음. 784 * 100 + 100 = 78500\n",
        "\n",
        "# 두번째 층\n",
        "# 파라미터 개수 : 100개 은닉층 뉴런과 10개의 출력층 뉴런이 모두 연결되고 출력 층 뉴런마다 하나의 절편이 있음. 100*10 + 10 = 1010\n",
        "\n",
        "# Total params : 은닉층와 출력층 파라미터 값 합친 것 . 78500 + 1010\n",
        "# Non-trainable params: 경사 하강법으로 훈련되지 않는 파라미터 층의 파라미터 개수."
      ],
      "execution_count": 2,
      "outputs": [
        {
          "output_type": "stream",
          "text": [
            "Model: \"sequential\"\n",
            "_________________________________________________________________\n",
            "Layer (type)                 Output Shape              Param #   \n",
            "=================================================================\n",
            "dense (Dense)                (None, 100)               78500     \n",
            "_________________________________________________________________\n",
            "dense_1 (Dense)              (None, 10)                1010      \n",
            "=================================================================\n",
            "Total params: 79,510\n",
            "Trainable params: 79,510\n",
            "Non-trainable params: 0\n",
            "_________________________________________________________________\n"
          ],
          "name": "stdout"
        }
      ]
    },
    {
      "cell_type": "markdown",
      "metadata": {
        "id": "nbcvVYi3OtZM"
      },
      "source": [
        "## 층을 추가하는 다른 방법 1\n",
        "\n"
      ]
    },
    {
      "cell_type": "code",
      "metadata": {
        "colab": {
          "base_uri": "https://localhost:8080/"
        },
        "id": "4s3uc3kMOwno",
        "outputId": "32c313b6-9986-4a49-c172-e453a1d4d9ac"
      },
      "source": [
        "model = keras.Sequential([\n",
        "    keras.layers.Dense(100, activation='sigmoid', input_shape=(784,), name='hidden'),\n",
        "    keras.layers.Dense(10, activation='softmax', name='output')\n",
        "], name='패션 MNIST 모델')\n",
        "\n",
        "model.summary()"
      ],
      "execution_count": 3,
      "outputs": [
        {
          "output_type": "stream",
          "text": [
            "Model: \"패션 MNIST 모델\"\n",
            "_________________________________________________________________\n",
            "Layer (type)                 Output Shape              Param #   \n",
            "=================================================================\n",
            "hidden (Dense)               (None, 100)               78500     \n",
            "_________________________________________________________________\n",
            "output (Dense)               (None, 10)                1010      \n",
            "=================================================================\n",
            "Total params: 79,510\n",
            "Trainable params: 79,510\n",
            "Non-trainable params: 0\n",
            "_________________________________________________________________\n"
          ],
          "name": "stdout"
        }
      ]
    },
    {
      "cell_type": "markdown",
      "metadata": {
        "id": "59NfcFShQ7an"
      },
      "source": [
        "## 층을 추가하는 다른 방법 2"
      ]
    },
    {
      "cell_type": "code",
      "metadata": {
        "colab": {
          "base_uri": "https://localhost:8080/"
        },
        "id": "ivpi3k7rQqyS",
        "outputId": "e01a6c10-d4df-4015-893b-4db21ef554e8"
      },
      "source": [
        "model = keras.Sequential()\n",
        "model.add(keras.layers.Dense(100, activation='sigmoid', input_shape=(784,)))\n",
        "model.add(keras.layers.Dense(10, activation='softmax'))\n",
        "# 한 눈에 추가되는 층을 볼 수 있고, 프로그램 실행 시 동적으로 층 선택하여 추가할 수 있음.\n",
        "\n",
        "model.summary()"
      ],
      "execution_count": 4,
      "outputs": [
        {
          "output_type": "stream",
          "text": [
            "Model: \"sequential_1\"\n",
            "_________________________________________________________________\n",
            "Layer (type)                 Output Shape              Param #   \n",
            "=================================================================\n",
            "dense_2 (Dense)              (None, 100)               78500     \n",
            "_________________________________________________________________\n",
            "dense_3 (Dense)              (None, 10)                1010      \n",
            "=================================================================\n",
            "Total params: 79,510\n",
            "Trainable params: 79,510\n",
            "Non-trainable params: 0\n",
            "_________________________________________________________________\n"
          ],
          "name": "stdout"
        }
      ]
    },
    {
      "cell_type": "code",
      "metadata": {
        "colab": {
          "base_uri": "https://localhost:8080/"
        },
        "id": "rvSPnlllRIFP",
        "outputId": "496497c0-c957-4e4c-bca4-610e7524ac23"
      },
      "source": [
        "# 모델 훈련\n",
        "model.compile(loss='sparse_categorical_crossentropy', metrics='accuracy')\n",
        "\n",
        "model.fit(train_scaled, train_target, epochs=5)\n",
        "# 추가된 층이 성능 향상 시켰다는 것을 알 수 있음."
      ],
      "execution_count": 5,
      "outputs": [
        {
          "output_type": "stream",
          "text": [
            "Epoch 1/5\n",
            "1500/1500 [==============================] - 5s 3ms/step - loss: 0.5626 - accuracy: 0.8099\n",
            "Epoch 2/5\n",
            "1500/1500 [==============================] - 4s 2ms/step - loss: 0.4082 - accuracy: 0.8527\n",
            "Epoch 3/5\n",
            "1500/1500 [==============================] - 5s 3ms/step - loss: 0.3733 - accuracy: 0.8644\n",
            "Epoch 4/5\n",
            "1500/1500 [==============================] - 5s 3ms/step - loss: 0.3503 - accuracy: 0.8734\n",
            "Epoch 5/5\n",
            "1500/1500 [==============================] - 4s 3ms/step - loss: 0.3328 - accuracy: 0.8791\n"
          ],
          "name": "stdout"
        },
        {
          "output_type": "execute_result",
          "data": {
            "text/plain": [
              "<tensorflow.python.keras.callbacks.History at 0x7f193fb59b10>"
            ]
          },
          "metadata": {
            "tags": []
          },
          "execution_count": 5
        }
      ]
    },
    {
      "cell_type": "code",
      "metadata": {
        "id": "xy1_XUnsRPqK"
      },
      "source": [
        ""
      ],
      "execution_count": null,
      "outputs": []
    },
    {
      "cell_type": "markdown",
      "metadata": {
        "id": "zFc4c2YsRdhJ"
      },
      "source": [
        "## 렐루 활성화 함수"
      ]
    },
    {
      "cell_type": "code",
      "metadata": {
        "colab": {
          "base_uri": "https://localhost:8080/"
        },
        "id": "S8ObSCPaRe4K",
        "outputId": "09e00825-0735-47a1-eaf8-e6b70510e72d"
      },
      "source": [
        "model = keras.Sequential()\n",
        "# Flatten 클래스 : 배치 차원 제외하고 나머지 입력 차원을 모두 일렬로 펼치는 역할. 입력에 곱해지는 가중치나 절편이 없음. 층처럼 입력층과 은닉층 사이에 추가하기 때문에 층이라 부름. 입력층 바로 뒤에 추가.\n",
        "model.add(keras.layers.Flatten(input_shape=(28, 28)))\n",
        "model.add(keras.layers.Dense(100, activation='relu'))\n",
        "model.add(keras.layers.Dense(10, activation='softmax'))\n",
        "\n",
        "model.summary()\n",
        "\n",
        "# Flatten 에 포함된 모델 파라미터는 0개 -> 케라스의 Flatten 층을 신경망 모델에 추가하면 입력값의 차원을 짐작할 수 있음."
      ],
      "execution_count": 6,
      "outputs": [
        {
          "output_type": "stream",
          "text": [
            "Model: \"sequential_2\"\n",
            "_________________________________________________________________\n",
            "Layer (type)                 Output Shape              Param #   \n",
            "=================================================================\n",
            "flatten (Flatten)            (None, 784)               0         \n",
            "_________________________________________________________________\n",
            "dense_4 (Dense)              (None, 100)               78500     \n",
            "_________________________________________________________________\n",
            "dense_5 (Dense)              (None, 10)                1010      \n",
            "=================================================================\n",
            "Total params: 79,510\n",
            "Trainable params: 79,510\n",
            "Non-trainable params: 0\n",
            "_________________________________________________________________\n"
          ],
          "name": "stdout"
        }
      ]
    },
    {
      "cell_type": "code",
      "metadata": {
        "colab": {
          "base_uri": "https://localhost:8080/"
        },
        "id": "0jzpFJCHUZYt",
        "outputId": "2bebc93d-4d58-4549-9134-5826fcca4de0"
      },
      "source": [
        "(train_input, train_target), (test_input, test_target) = keras.datasets.fashion_mnist.load_data()\n",
        "train_scaled = train_input / 255.0\n",
        "train_scaled, val_scaled, train_target, val_target = train_test_split(\n",
        "    train_scaled, train_target, test_size=0.2, random_state=42)\n",
        "\n",
        "# 모델을 컴파일하고 훈련.\n",
        "model.compile(loss='sparse_categorical_crossentropy', metrics='accuracy')\n",
        "\n",
        "model.fit(train_scaled, train_target, epochs=5)    \n",
        "\n",
        "# 시그모이드 함수를 사용했을 때와 비교했을 때 성능이 향상된 것 확인 가능"
      ],
      "execution_count": 7,
      "outputs": [
        {
          "output_type": "stream",
          "text": [
            "Epoch 1/5\n",
            "1500/1500 [==============================] - 4s 2ms/step - loss: 0.5304 - accuracy: 0.8113\n",
            "Epoch 2/5\n",
            "1500/1500 [==============================] - 4s 3ms/step - loss: 0.3895 - accuracy: 0.8597\n",
            "Epoch 3/5\n",
            "1500/1500 [==============================] - 4s 3ms/step - loss: 0.3560 - accuracy: 0.8725\n",
            "Epoch 4/5\n",
            "1500/1500 [==============================] - 4s 3ms/step - loss: 0.3340 - accuracy: 0.8812\n",
            "Epoch 5/5\n",
            "1500/1500 [==============================] - 4s 3ms/step - loss: 0.3193 - accuracy: 0.8853\n"
          ],
          "name": "stdout"
        },
        {
          "output_type": "execute_result",
          "data": {
            "text/plain": [
              "<tensorflow.python.keras.callbacks.History at 0x7f1939be4e50>"
            ]
          },
          "metadata": {
            "tags": []
          },
          "execution_count": 7
        }
      ]
    },
    {
      "cell_type": "code",
      "metadata": {
        "colab": {
          "base_uri": "https://localhost:8080/"
        },
        "id": "wXYQfDsmUvk_",
        "outputId": "62ebbae8-5221-4901-9409-96a22cede575"
      },
      "source": [
        "# 검증 세트에서의 성능\n",
        "model.evaluate(val_scaled, val_target)"
      ],
      "execution_count": 8,
      "outputs": [
        {
          "output_type": "stream",
          "text": [
            "375/375 [==============================] - 1s 1ms/step - loss: 0.3678 - accuracy: 0.8693\n"
          ],
          "name": "stdout"
        },
        {
          "output_type": "execute_result",
          "data": {
            "text/plain": [
              "[0.367831289768219, 0.8693333268165588]"
            ]
          },
          "metadata": {
            "tags": []
          },
          "execution_count": 8
        }
      ]
    },
    {
      "cell_type": "code",
      "metadata": {
        "id": "M1vEsi_eU3rr"
      },
      "source": [
        ""
      ],
      "execution_count": null,
      "outputs": []
    },
    {
      "cell_type": "markdown",
      "metadata": {
        "id": "Lr2j358-U7-S"
      },
      "source": [
        "## 옵티마이저"
      ]
    },
    {
      "cell_type": "code",
      "metadata": {
        "id": "DtbfsHxsU9QZ"
      },
      "source": [
        "# optimizer='sgd' : SGD 옵티마이저 사용.\n",
        "model.compile(optimizer='sgd', loss='sparse_categorical_crossentropy', metrics='accuracy')\n",
        "\n",
        "# 위의 코드와 동일.\n",
        "sgd = keras.optimizers.SGD()\n",
        "model.compile(optimizer=sgd, loss='sparse_categorical_crossentropy', metrics='accuracy')"
      ],
      "execution_count": null,
      "outputs": []
    },
    {
      "cell_type": "code",
      "metadata": {
        "id": "hgBAR1MAOr8A"
      },
      "source": [
        "# learning_rate=0.1 학습률 설정.\n",
        "sgd = keras.optimizers.SGD(learning_rate=0.1)"
      ],
      "execution_count": null,
      "outputs": []
    },
    {
      "cell_type": "code",
      "metadata": {
        "id": "52vHlM97KxfO"
      },
      "source": [
        "# momentum 기본값 = 0, 0보다 큰 값으로 지정하면 이전의 그레이디언트를 사고도처럼 사용하는 모멘텀 최적화 사용(보통 0.9 이상 사용)\n",
        "#  nesterov : True로 바꾸면 네스테로프 모멘텀(네스테로프 가속 경사) 최적화 사용, 네스테로프 모멘텀은 모멘텀 최적화를 2번 반복하여 구현.\n",
        "sgd = keras.optimizers.SGD(momentum=0.9, nesterov=True)"
      ],
      "execution_count": 9,
      "outputs": []
    },
    {
      "cell_type": "code",
      "metadata": {
        "id": "NBrPRD1ThltU"
      },
      "source": [
        "# 적응적 학습률 사용하는 대표적인 옵티마이저 : Adagrad, RMSprop\n",
        "# Adgrad\n",
        "adagrad = keras.optimizers.Adagrad()\n",
        "model.compile(optimizer=adagrad, loss='sparse_categorical_crossentropy', metrics='accuracy')\n",
        "\n",
        "# RMSprop\n",
        "rmsprop = keras.optimizers.RMSprop()\n",
        "model.compile(optimizer=rmsprop, loss='sparse_categorical_crossentropy', metrics='accuracy')"
      ],
      "execution_count": 10,
      "outputs": []
    },
    {
      "cell_type": "code",
      "metadata": {
        "colab": {
          "base_uri": "https://localhost:8080/"
        },
        "id": "vNc1pYsAh28O",
        "outputId": "77f8031f-18c8-49a0-c8be-ad23329e817e"
      },
      "source": [
        "model = keras.Sequential()\n",
        "model.add(keras.layers.Flatten(input_shape=(28, 28)))\n",
        "model.add(keras.layers.Dense(100, activation='relu'))\n",
        "model.add(keras.layers.Dense(10, activation='softmax'))\n",
        "\n",
        "# 모멘텀 최적화와 RMSprop의 장점을 접목한 것이 Adam.\n",
        "model.compile(optimizer='adam', loss='sparse_categorical_crossentropy', metrics='accuracy')\n",
        "\n",
        "model.fit(train_scaled, train_target, epochs=5)"
      ],
      "execution_count": 11,
      "outputs": [
        {
          "output_type": "stream",
          "text": [
            "Epoch 1/5\n",
            "1500/1500 [==============================] - 6s 4ms/step - loss: 0.5208 - accuracy: 0.8191\n",
            "Epoch 2/5\n",
            "1500/1500 [==============================] - 6s 4ms/step - loss: 0.3936 - accuracy: 0.8586\n",
            "Epoch 3/5\n",
            "1500/1500 [==============================] - 9s 6ms/step - loss: 0.3513 - accuracy: 0.8728\n",
            "Epoch 4/5\n",
            "1500/1500 [==============================] - 7s 4ms/step - loss: 0.3244 - accuracy: 0.8814\n",
            "Epoch 5/5\n",
            "1500/1500 [==============================] - 7s 5ms/step - loss: 0.3077 - accuracy: 0.8870\n"
          ],
          "name": "stdout"
        },
        {
          "output_type": "execute_result",
          "data": {
            "text/plain": [
              "<tensorflow.python.keras.callbacks.History at 0x7f1939257d90>"
            ]
          },
          "metadata": {
            "tags": []
          },
          "execution_count": 11
        }
      ]
    },
    {
      "cell_type": "code",
      "metadata": {
        "colab": {
          "base_uri": "https://localhost:8080/"
        },
        "id": "2PVcbHMOiBeG",
        "outputId": "902150a9-2c35-4d67-c239-b61fcb98cdd7"
      },
      "source": [
        "# 검증세트에서의 성능\n",
        "model.evaluate(val_scaled, val_target)"
      ],
      "execution_count": 12,
      "outputs": [
        {
          "output_type": "stream",
          "text": [
            "375/375 [==============================] - 1s 2ms/step - loss: 0.3264 - accuracy: 0.8802\n"
          ],
          "name": "stdout"
        },
        {
          "output_type": "execute_result",
          "data": {
            "text/plain": [
              "[0.3264469504356384, 0.8802499771118164]"
            ]
          },
          "metadata": {
            "tags": []
          },
          "execution_count": 12
        }
      ]
    },
    {
      "cell_type": "code",
      "metadata": {
        "id": "BIrO_tMCiHMX"
      },
      "source": [
        ""
      ],
      "execution_count": null,
      "outputs": []
    }
  ]
}