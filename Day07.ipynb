{
  "nbformat": 4,
  "nbformat_minor": 0,
  "metadata": {
    "colab": {
      "name": "Day07.ipynb",
      "provenance": [],
      "collapsed_sections": []
    },
    "kernelspec": {
      "name": "python3",
      "display_name": "Python 3"
    },
    "language_info": {
      "name": "python"
    }
  },
  "cells": [
    {
      "cell_type": "markdown",
      "metadata": {
        "id": "ndU27RjTMEAp"
      },
      "source": [
        "# 혼자 공부하는 머신러닝+딥러닝 : 04-1"
      ]
    },
    {
      "cell_type": "code",
      "metadata": {
        "colab": {
          "base_uri": "https://localhost:8080/"
        },
        "id": "TwfyuVD3L9Ia",
        "outputId": "bc12e159-9bd9-4b78-c6ea-7f488926241b"
      },
      "source": [
        "import pandas as pd\n",
        "\n",
        "# read_csv() : csv 파일을 데이터 프레임으로 변환\n",
        "fish = pd.read_csv('https://bit.ly/fish_csv_data')\n",
        "fish.head()\n",
        "\n",
        "# 'Species' 열에서 고유한 값 출력\n",
        "print(pd.unique(fish['Species']))\n",
        "\n",
        "# 'Species'열 : 타깃\n",
        "# 나머지 5개 열 : 입력 데이터\n",
        "\n",
        "# 입력 데이터 준비\n",
        "fish_input = fish[['Weight','Length','Diagonal','Height','Width']].to_numpy()\n",
        "print(fish_input[:5])\n",
        "\n",
        "# 타깃 데이터 준비\n",
        "fish_target = fish['Species'].to_numpy()"
      ],
      "execution_count": 4,
      "outputs": [
        {
          "output_type": "stream",
          "text": [
            "['Bream' 'Roach' 'Whitefish' 'Parkki' 'Perch' 'Pike' 'Smelt']\n",
            "[[242.      25.4     30.      11.52     4.02  ]\n",
            " [290.      26.3     31.2     12.48     4.3056]\n",
            " [340.      26.5     31.1     12.3778   4.6961]\n",
            " [363.      29.      33.5     12.73     4.4555]\n",
            " [430.      29.      34.      12.444    5.134 ]]\n"
          ],
          "name": "stdout"
        }
      ]
    },
    {
      "cell_type": "code",
      "metadata": {
        "id": "I2-YW6cDMq7r"
      },
      "source": [
        "from sklearn.model_selection import train_test_split\n",
        "\n",
        "# 데이터를 훈련 세트와 테스트 세트로 나눔.\n",
        "train_input, test_input, train_target, test_target = train_test_split(\n",
        "    fish_input, fish_target, random_state=42)\n",
        "\n",
        "# 훈련 세트와 테스트 세트를 표준화 전처리 : 훈련 세트의 통계 값으로 테스트 세트 변환해야 함.\n",
        "from sklearn.preprocessing import StandardScaler\n",
        "\n",
        "ss = StandardScaler()\n",
        "ss.fit(train_input)\n",
        "train_scaled = ss.transform(train_input)\n",
        "test_scaled = ss.transform(test_input)"
      ],
      "execution_count": 5,
      "outputs": []
    },
    {
      "cell_type": "markdown",
      "metadata": {
        "id": "zA9l3_12NqaP"
      },
      "source": [
        "## k-최근접 이웃 분류기의 확률 예측"
      ]
    },
    {
      "cell_type": "code",
      "metadata": {
        "colab": {
          "base_uri": "https://localhost:8080/"
        },
        "id": "qD7uHVKXML5q",
        "outputId": "86b94cd6-3184-445a-ca81-ea1cc820e85a"
      },
      "source": [
        "from sklearn.neighbors import KNeighborsClassifier\n",
        "\n",
        "# 최근 접 이웃 개수 k를 3으로 지정.\n",
        "kn = KNeighborsClassifier(n_neighbors=3)\n",
        "kn.fit(train_scaled, train_target)\n",
        "\n",
        "print(kn.score(train_scaled, train_target))\n",
        "print(kn.score(test_scaled, test_target))\n",
        "\n",
        "# 타깃값을 그대로 사이킷런 모델에 전달하면 순서가 자동으로 알파벳 순으로 매겨짐.\n",
        "# 위에서 본 print(pd.unique(fish['Species']))의 출력값과 순서가 다름.\n",
        "print(kn.classes_)\n",
        "\n",
        "import numpy as np\n",
        "\n",
        "# predict() : 타깃값으로 예측을 출력\n",
        "# predict_proba() : 사이킷런 분류 모델은 이 함수를 통해 클래스별 확률값 반환. / 출력 순서는 앞서 보았던 classes_ 속성과 동일\n",
        "# round() : 기본으로 소수점 첫째 자리에서 반올림 함. / decimals 매개변수로 유지할 소수점 아래 자릿수 지정 가능.\n",
        "proba = kn.predict_proba(test_scaled[:5])\n",
        "print(np.round(proba, decimals=4))\n",
        "\n",
        "# 네번째 샘플의 최근접 이웃의 클래스 확인\n",
        "distances, indexes = kn.kneighbors(test_scaled[3:4])\n",
        "print(train_target[indexes])\n",
        "\n",
        "# 다섯 번째 클래스 'Roach' 1개 : 다섯 번째 클래스에 대한 확률 1/3 = 0.3333\n",
        "# 세 번째 클래스 'Perch' 2개 : 세 번째 클래스에 대한 확률 2/3 = 0.6667"
      ],
      "execution_count": 6,
      "outputs": [
        {
          "output_type": "stream",
          "text": [
            "0.8907563025210085\n",
            "0.85\n",
            "['Bream' 'Parkki' 'Perch' 'Pike' 'Roach' 'Smelt' 'Whitefish']\n",
            "[[0.     0.     1.     0.     0.     0.     0.    ]\n",
            " [0.     0.     0.     0.     0.     1.     0.    ]\n",
            " [0.     0.     0.     1.     0.     0.     0.    ]\n",
            " [0.     0.     0.6667 0.     0.3333 0.     0.    ]\n",
            " [0.     0.     0.6667 0.     0.3333 0.     0.    ]]\n",
            "[['Roach' 'Perch' 'Perch']]\n"
          ],
          "name": "stdout"
        }
      ]
    },
    {
      "cell_type": "code",
      "metadata": {
        "id": "UyD9jeE8UiUh"
      },
      "source": [
        ""
      ],
      "execution_count": null,
      "outputs": []
    },
    {
      "cell_type": "code",
      "metadata": {
        "id": "K46VW5UfVoL3"
      },
      "source": [
        ""
      ],
      "execution_count": null,
      "outputs": []
    },
    {
      "cell_type": "markdown",
      "metadata": {
        "id": "pe4gPkHtVnXj"
      },
      "source": [
        "## 로지스틱 회귀"
      ]
    },
    {
      "cell_type": "code",
      "metadata": {
        "colab": {
          "base_uri": "https://localhost:8080/",
          "height": 279
        },
        "id": "BmgeQFacML7x",
        "outputId": "5b792dc7-9e20-4176-cacf-285ed832324a"
      },
      "source": [
        "import numpy as np\n",
        "import matplotlib.pyplot as plt\n",
        "\n",
        "z = np.arange(-5, 5, 0.1)\n",
        "phi = 1 / (1 + np.exp(-z))\n",
        "\n",
        "plt.plot(z, phi)\n",
        "plt.xlabel('z')\n",
        "plt.ylabel('phi')\n",
        "plt.show()"
      ],
      "execution_count": 7,
      "outputs": [
        {
          "output_type": "display_data",
          "data": {
            "image/png": "[encoded data removed]",
            "text/plain": [
              "<Figure size 432x288 with 1 Axes>"
            ]
          },
          "metadata": {
            "tags": [],
            "needs_background": "light"
          }
        }
      ]
    },
    {
      "cell_type": "markdown",
      "metadata": {
        "id": "GLXsqo2JYb7G"
      },
      "source": [
        "## 로지스틱 회귀로 이진 분류 수행하기"
      ]
    },
    {
      "cell_type": "code",
      "metadata": {
        "id": "KHhvZmS1ML-J",
        "colab": {
          "base_uri": "https://localhost:8080/"
        },
        "outputId": "b3561a29-2196-4985-8725-edd2a7500d14"
      },
      "source": [
        "# A와 C 골라내기\n",
        "char_arr = np.array(['A', 'B', 'C', 'D', 'E'])\n",
        "print(char_arr[[True, False, True, False, False]])"
      ],
      "execution_count": 9,
      "outputs": [
        {
          "output_type": "stream",
          "text": [
            "['A' 'C']\n"
          ],
          "name": "stdout"
        }
      ]
    },
    {
      "cell_type": "code",
      "metadata": {
        "colab": {
          "base_uri": "https://localhost:8080/"
        },
        "id": "BlrLThuMMMAu",
        "outputId": "15e09d52-22cf-488c-c130-c74971ded727"
      },
      "source": [
        "# 빙어(Smelt)와 도미(Bream) 행 골라내기\n",
        "# (train_target == 'Bream') : tain_target 배열에서 'Bream'인 것은 True이고 그 외는 모두 False인 배열 반환\n",
        "# 도미와 빙어에 대한 비교 결과를 비트 연산자( | )를 사용하여 도미와 빙어에 대한 행만 골라냄\n",
        "bream_smelt_indexes = (train_target == 'Bream') | (train_target == 'Smelt')\n",
        "train_bream_smelt = train_scaled[bream_smelt_indexes]\n",
        "target_bream_smelt = train_target[bream_smelt_indexes]\n",
        "\n",
        "\n",
        "#  LogisticRegression() : 로지스틱 회귀 모델\n",
        "from sklearn.linear_model import LogisticRegression\n",
        "\n",
        "lr = LogisticRegression()\n",
        "# 훈련\n",
        "lr.fit(train_bream_smelt, target_bream_smelt)\n",
        "\n",
        "# train_bream_smelt에 있는 샘플 5개 예측\n",
        "print(lr.predict(train_bream_smelt[:5]))\n",
        "\n",
        "# 샘플의 예측 확률\n",
        "# 첫번째 열 : 음성 클래스(0)에 대한 확률\n",
        "# 두번째 열 : 양성 클래스(1)에 대한 확률\n",
        "# 두번째 샘플만 빙어에 대한 확률이 높으므로 나머지는 모두 도미로 예측\n",
        "print(lr.predict_proba(train_bream_smelt[:5]))\n",
        "\n",
        "# 도미(bream)가 음성 클래스, 빙어(smelt)가 양성 클래스\n",
        "print(lr.classes_)"
      ],
      "execution_count": 8,
      "outputs": [
        {
          "output_type": "stream",
          "text": [
            "['Bream' 'Smelt' 'Bream' 'Bream' 'Bream']\n",
            "[[0.99759855 0.00240145]\n",
            " [0.02735183 0.97264817]\n",
            " [0.99486072 0.00513928]\n",
            " [0.98584202 0.01415798]\n",
            " [0.99767269 0.00232731]]\n",
            "['Bream' 'Smelt']\n"
          ],
          "name": "stdout"
        }
      ]
    },
    {
      "cell_type": "code",
      "metadata": {
        "colab": {
          "base_uri": "https://localhost:8080/"
        },
        "id": "dOjwFALSZzB4",
        "outputId": "b84d679e-f3bd-462e-e450-b72d1f621a72"
      },
      "source": [
        "# 로지스틱 회귀가 학습한 계수\n",
        "print(lr.coef_, lr.intercept_)\n",
        "\n",
        "# 로지스틱 회귀 모델이 학습한 방정식\n",
        "# z = -0.404 * (Weighbt) -0.576 * (Lengtb) -0.663 * (Diagonal) - 1.013 * (Heigbt) - 0.732 * (Widthb) - 2.161"
      ],
      "execution_count": 10,
      "outputs": [
        {
          "output_type": "stream",
          "text": [
            "[[-0.4037798  -0.57620209 -0.66280298 -1.01290277 -0.73168947]] [-2.16155132]\n"
          ],
          "name": "stdout"
        }
      ]
    },
    {
      "cell_type": "code",
      "metadata": {
        "colab": {
          "base_uri": "https://localhost:8080/"
        },
        "id": "Nvpp6lJNaJdu",
        "outputId": "1b4522d7-79d0-4973-c581-9c3791782d98"
      },
      "source": [
        "# decision_function() : z 값 출력\n",
        "decisions = lr.decision_function(train_bream_smelt[:5])\n",
        "print(decisions)\n",
        "\n",
        "# z값을 시그모이드 함수에 통과시키면 확률 얻을 수 있음.\n",
        "# expit() : 시그모이드 함수\n",
        "from scipy.special import expit\n",
        "\n",
        "print(expit(decisions))"
      ],
      "execution_count": 11,
      "outputs": [
        {
          "output_type": "stream",
          "text": [
            "[-6.02927744  3.57123907 -5.26568906 -4.24321775 -6.0607117 ]\n",
            "[0.00240145 0.97264817 0.00513928 0.01415798 0.00232731]\n"
          ],
          "name": "stdout"
        }
      ]
    },
    {
      "cell_type": "code",
      "metadata": {
        "id": "YFRUdmexa8bc"
      },
      "source": [
        ""
      ],
      "execution_count": null,
      "outputs": []
    },
    {
      "cell_type": "markdown",
      "metadata": {
        "id": "ppOj_9Nra-2i"
      },
      "source": [
        "## 로지스틱 회귀로 다중 분류 수행하기"
      ]
    },
    {
      "cell_type": "code",
      "metadata": {
        "id": "4ggCRQJAa_SW",
        "colab": {
          "base_uri": "https://localhost:8080/"
        },
        "outputId": "8307b154-c818-4ce3-82c2-196071922d8f"
      },
      "source": [
        "# L2 규제 (릿지) : 계수의 제곱 규제\n",
        "# LogisticRegression()에서 규제를 제어하는 매개변수 = C\n",
        "# C 는 알파와 반대로 작을수록 규제가 커짐. C의 기본값 = 1\n",
        "\n",
        "# 규제 완화 : C = 20\n",
        "# LogisticRegression 클래스로 다중 분류 모델을 훈련하는 코드\n",
        "lr = LogisticRegression(C=20, max_iter=1000)\n",
        "lr.fit(train_scaled, train_target)\n",
        "\n",
        "print(lr.score(train_scaled, train_target))\n",
        "print(lr.score(test_scaled, test_target))\n",
        "\n",
        "# 훈련 세트와 테스트 세트에 대한 점수가 높고 과대적합이나 과소적합으로 치우치지 않음. "
      ],
      "execution_count": 12,
      "outputs": [
        {
          "output_type": "stream",
          "text": [
            "0.9327731092436975\n",
            "0.925\n"
          ],
          "name": "stdout"
        }
      ]
    },
    {
      "cell_type": "code",
      "metadata": {
        "colab": {
          "base_uri": "https://localhost:8080/"
        },
        "id": "PslfR-1lmzqg",
        "outputId": "1829a978-d3c6-4fb6-f4c2-92aa33ca7079"
      },
      "source": [
        "# 테스트 샘플 5개에 대한 예측\n",
        "print(lr.predict(test_scaled[:5]))\n",
        "\n",
        "# 테스트 세트 5개에 대한 예측 확률\n",
        "proba = lr.predict_proba(test_scaled[:5])\n",
        "# 소수점 4번째 자리에서 반올림.\n",
        "# 5개 샘플에 대한 예측이므로 5개의 행 출력\n",
        "# 7개 생선에 대한 확률 계산했으므로 7개 열 출력\n",
        "# 이진 분류일 경우 2개의 열만 있었음.\n",
        "print(np.round(proba, decimals=3))\n",
        "\n",
        "# 클래스 정보 확인\n",
        "print(lr.classes_)"
      ],
      "execution_count": 13,
      "outputs": [
        {
          "output_type": "stream",
          "text": [
            "['Perch' 'Smelt' 'Pike' 'Roach' 'Perch']\n",
            "[[0.    0.014 0.841 0.    0.136 0.007 0.003]\n",
            " [0.    0.003 0.044 0.    0.007 0.946 0.   ]\n",
            " [0.    0.    0.034 0.935 0.015 0.016 0.   ]\n",
            " [0.011 0.034 0.306 0.007 0.567 0.    0.076]\n",
            " [0.    0.    0.904 0.002 0.089 0.002 0.001]]\n",
            "['Bream' 'Parkki' 'Perch' 'Pike' 'Roach' 'Smelt' 'Whitefish']\n"
          ],
          "name": "stdout"
        }
      ]
    },
    {
      "cell_type": "code",
      "metadata": {
        "id": "4QCwII3HhL6e"
      },
      "source": [
        ""
      ],
      "execution_count": null,
      "outputs": []
    },
    {
      "cell_type": "code",
      "metadata": {
        "id": "hYB_QfVlaqXH",
        "colab": {
          "base_uri": "https://localhost:8080/"
        },
        "outputId": "2ac8cef7-c1e0-4449-b1ab-7c190082984a"
      },
      "source": [
        "# 다중 분류일 경우 선형 방정식\n",
        "# coef_배열 값 = 5 : 5개의 특성 사용\n",
        "# 행 7개, intercept_  = 7  : z를 7개 계산한다는 의미\n",
        "# 다중 분류는 클래스마다 z 값을 하나씩 계산\n",
        "# 가장 높은 z 값을 출력하는 클래스가 예측 클래스가 됨. \n",
        "print(lr.coef_.shape, lr.intercept_.shape)\n",
        "\n",
        "# 이진 분류에서는 시그모이드 함수를 사용해 z를 0~1 사이 값으로 변환했지만,\n",
        "# 다중 분류는 소프트맥스 함수 사용하여 7개의 z값을 확률로 변환\n",
        "\n",
        "# z1 ~ z7값 구하기\n",
        "decision = lr.decision_function(test_scaled[:5])\n",
        "print(np.round(decision, decimals=2))\n",
        "\n",
        "# softmax : softmax 함수\n",
        "from scipy.special import softmax\n",
        "\n",
        "# axis = 1 로 지정하여 각 행, 즉 각 샘플에 대해 소프트 맥스 계산 / 지정하지 않으면, 배열 전체에 대해 소프트맥스 계산.\n",
        "proba = softmax(decision, axis=1)\n",
        "print(np.round(proba, decimals=3))"
      ],
      "execution_count": 14,
      "outputs": [
        {
          "output_type": "stream",
          "text": [
            "(7, 5) (7,)\n",
            "[[ -6.5    1.03   5.16  -2.73   3.34   0.33  -0.63]\n",
            " [-10.86   1.93   4.77  -2.4    2.98   7.84  -4.26]\n",
            " [ -4.34  -6.23   3.17   6.49   2.36   2.42  -3.87]\n",
            " [ -0.68   0.45   2.65  -1.19   3.26  -5.75   1.26]\n",
            " [ -6.4   -1.99   5.82  -0.11   3.5   -0.11  -0.71]]\n",
            "[[0.    0.014 0.841 0.    0.136 0.007 0.003]\n",
            " [0.    0.003 0.044 0.    0.007 0.946 0.   ]\n",
            " [0.    0.    0.034 0.935 0.015 0.016 0.   ]\n",
            " [0.011 0.034 0.306 0.007 0.567 0.    0.076]\n",
            " [0.    0.    0.904 0.002 0.089 0.002 0.001]]\n"
          ],
          "name": "stdout"
        }
      ]
    },
    {
      "cell_type": "code",
      "metadata": {
        "id": "YdXrKuHYrJkB"
      },
      "source": [
        ""
      ],
      "execution_count": null,
      "outputs": []
    },
    {
      "cell_type": "code",
      "metadata": {
        "id": "C7NmAslqpMn3"
      },
      "source": [
        ""
      ],
      "execution_count": null,
      "outputs": []
    },
    {
      "cell_type": "code",
      "metadata": {
        "id": "aOev65uiaJms"
      },
      "source": [
        ""
      ],
      "execution_count": null,
      "outputs": []
    },
    {
      "cell_type": "code",
      "metadata": {
        "id": "py0PTUSTaJpM"
      },
      "source": [
        ""
      ],
      "execution_count": null,
      "outputs": []
    },
    {
      "cell_type": "code",
      "metadata": {
        "id": "b_iSfM1-Zj_c"
      },
      "source": [
        ""
      ],
      "execution_count": null,
      "outputs": []
    },
    {
      "cell_type": "code",
      "metadata": {
        "id": "LrijA0jEYwia"
      },
      "source": [
        ""
      ],
      "execution_count": null,
      "outputs": []
    },
    {
      "cell_type": "code",
      "metadata": {
        "id": "9wykfsc_MMCu"
      },
      "source": [
        ""
      ],
      "execution_count": null,
      "outputs": []
    },
    {
      "cell_type": "code",
      "metadata": {
        "id": "9U4IKgmGMMEz"
      },
      "source": [
        ""
      ],
      "execution_count": null,
      "outputs": []
    }
  ]
}